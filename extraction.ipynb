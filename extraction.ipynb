{
 "cells": [
  {
   "cell_type": "code",
   "execution_count": 1,
   "metadata": {},
   "outputs": [],
   "source": [
    "#Importing Libraries \n",
    "import pandas as pd\n",
    "import requests\n",
    "from bs4 import BeautifulSoup\n"
   ]
  },
  {
   "cell_type": "code",
   "execution_count": null,
   "metadata": {},
   "outputs": [],
   "source": [
    "\"\"\"\n",
    "'nandi','narok','nyamira','nyandarua','nyeri', 'samburu','siaya','taita-taveta','tana-river','tharaka-nithi', 'trans nzoia','turkana','uasin-gishu','vihiga','wajir','west-pokot'\n",
    "\"\"\""
   ]
  },
  {
   "cell_type": "code",
   "execution_count": 11,
   "metadata": {},
   "outputs": [],
   "source": [
    "# List of counties (you can add more counties as needed)\n",
    "counties = ['nandi', 'narok'] "
   ]
  },
  {
   "cell_type": "code",
   "execution_count": 12,
   "metadata": {},
   "outputs": [],
   "source": [
    "# List of months and corresponding year\n",
    "months = ['january', 'february', 'march', 'april', 'may', 'june', \n",
    "          'july', 'august', 'september', 'october', 'november', 'december']\n",
    "\n",
    "# List of years from 2012 to 2020\n",
    "years = list(range(2012, 2021))"
   ]
  },
  {
   "cell_type": "code",
   "execution_count": 16,
   "metadata": {},
   "outputs": [
    {
     "name": "stdout",
     "output_type": "stream",
     "text": [
      "Data extraction complete. Saved to 'kenya_weather_data_2012_2020.csv'.\n"
     ]
    }
   ],
   "source": [
    "# List of counties ()\n",
    "counties = ['nandi','narok','nyamira','nyandarua','nyeri', \n",
    "            'samburu','siaya','taita/taveta','tana river',\n",
    "            'tharaka nithi', 'trans nzoia','turkana','uasin-gishu',\n",
    "            'vihiga','wajir','west-pokot']  \n",
    "\n",
    "# List of months\n",
    "months = ['january', 'february', 'march', 'april', 'may', 'june', \n",
    "          'july', 'august', 'september', 'october', 'november', 'december']\n",
    "\n",
    "# List of years from 2012 to 2020\n",
    "years = list(range(2012, 2021))\n",
    "\n",
    "# Initialize an empty DataFrame to store all data\n",
    "all_data = pd.DataFrame()\n",
    "\n",
    "# Loop through each county, year, and month\n",
    "for county in counties:\n",
    "    for year in years:\n",
    "        for month in months:\n",
    "            # Construct the URL\n",
    "            url = f'https://weatherandclimate.com/{county}/{month}-{year}'\n",
    "            \n",
    "            # Send request to the URL\n",
    "            response = requests.get(url)\n",
    "            soup = BeautifulSoup(response.text, 'html.parser')\n",
    "            \n",
    "            # Extract the first table containing the relevant data\n",
    "            tables = soup.find_all('table')\n",
    "            if tables:\n",
    "                first_table = tables[0]  # Get the first table\n",
    "                \n",
    "                # Extract the relevant data from the first table\n",
    "                temperature_data = {}\n",
    "                rows = first_table.find_all('tr')\n",
    "                for row in rows:\n",
    "                    cells = row.find_all('td')\n",
    "                    if len(cells) > 1:  # Ensure there are enough cells in the row\n",
    "                        label = cells[0].text.strip()\n",
    "                        value = cells[1].text.strip()\n",
    "                        if 'Max Temperature' in label:\n",
    "                            temperature_data['Max Temperature'] = value\n",
    "                        elif 'Avg Temperature' in label:\n",
    "                            temperature_data['Avg Temperature'] = value\n",
    "                        elif 'Min Temperature' in label:\n",
    "                            temperature_data['Min Temperature'] = value\n",
    "                        elif 'Dew Point' in label:\n",
    "                            temperature_data['Dew Point'] = value\n",
    "                        elif 'Precipitation' in label:\n",
    "                            temperature_data['Precipitation'] = value  # Adjusted to extract from cell 1\n",
    "                        elif 'Wind' in label:\n",
    "                            temperature_data['Wind'] = value\n",
    "                        elif 'Sea Level Pressure' in label:\n",
    "                            temperature_data['Sea Level Pressure'] = value\n",
    "                \n",
    "                # Append the extracted data to the DataFrame\n",
    "                df = pd.DataFrame({\n",
    "                    'County': [county],\n",
    "                    'Month': [month.capitalize()],\n",
    "                    'Year': [year],\n",
    "                    'Max Temperature': [temperature_data.get('Max Temperature', None)],\n",
    "                    'Avg Temperature': [temperature_data.get('Avg Temperature', None)],\n",
    "                    'Min Temperature': [temperature_data.get('Min Temperature', None)],\n",
    "                    'Dew Point': [temperature_data.get('Dew Point', None)],\n",
    "                    'Precipitation': [temperature_data.get('Precipitation', None)],\n",
    "                    'Wind': [temperature_data.get('Wind', None)],\n",
    "                    'Sea Level Pressure': [temperature_data.get('Sea Level Pressure', None)]\n",
    "                })\n",
    "                \n",
    "                all_data = pd.concat([all_data, df], ignore_index=True)\n",
    "\n",
    "# Save the DataFrame to a CSV file\n",
    "all_data.to_csv('Data/kenya_weather_data_2012_2020.csv', index=False)\n",
    "\n",
    "print(\"Data extraction complete. Saved to 'kenya_weather_data_2012_2020.csv'.\")\n"
   ]
  },
  {
   "cell_type": "code",
   "execution_count": null,
   "metadata": {},
   "outputs": [],
   "source": []
  }
 ],
 "metadata": {
  "kernelspec": {
   "display_name": ".venv",
   "language": "python",
   "name": "python3"
  },
  "language_info": {
   "codemirror_mode": {
    "name": "ipython",
    "version": 3
   },
   "file_extension": ".py",
   "mimetype": "text/x-python",
   "name": "python",
   "nbconvert_exporter": "python",
   "pygments_lexer": "ipython3",
   "version": "3.10.11"
  }
 },
 "nbformat": 4,
 "nbformat_minor": 2
}
